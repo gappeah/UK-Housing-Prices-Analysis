{
 "cells": [
  {
   "cell_type": "markdown",
   "metadata": {},
   "source": [
    "# UK House Prices Data Analysis Project"
   ]
  },
  {
   "cell_type": "code",
   "execution_count": 1,
   "metadata": {},
   "outputs": [
    {
     "name": "stdout",
     "output_type": "stream",
     "text": [
      "Files found: ['C:\\\\Users\\\\Student\\\\UK-Housing-Prices-Analysis\\\\E&W Year_1995.csv', 'C:\\\\Users\\\\Student\\\\UK-Housing-Prices-Analysis\\\\E&W Year_1996.csv', 'C:\\\\Users\\\\Student\\\\UK-Housing-Prices-Analysis\\\\E&W Year_1997_1.csv', 'C:\\\\Users\\\\Student\\\\UK-Housing-Prices-Analysis\\\\E&W Year_1997_2.csv', 'C:\\\\Users\\\\Student\\\\UK-Housing-Prices-Analysis\\\\E&W Year_1998.csv', 'C:\\\\Users\\\\Student\\\\UK-Housing-Prices-Analysis\\\\E&W Year_1999_1.csv', 'C:\\\\Users\\\\Student\\\\UK-Housing-Prices-Analysis\\\\E&W Year_1999_2.csv', 'C:\\\\Users\\\\Student\\\\UK-Housing-Prices-Analysis\\\\E&W Year_2000_1.csv', 'C:\\\\Users\\\\Student\\\\UK-Housing-Prices-Analysis\\\\E&W Year_2000_2.csv', 'C:\\\\Users\\\\Student\\\\UK-Housing-Prices-Analysis\\\\E&W Year_2001_1.csv', 'C:\\\\Users\\\\Student\\\\UK-Housing-Prices-Analysis\\\\E&W Year_2001_2.csv', 'C:\\\\Users\\\\Student\\\\UK-Housing-Prices-Analysis\\\\E&W Year_2002_1.csv', 'C:\\\\Users\\\\Student\\\\UK-Housing-Prices-Analysis\\\\E&W Year_2002_2.csv', 'C:\\\\Users\\\\Student\\\\UK-Housing-Prices-Analysis\\\\E&W Year_2003_1.csv', 'C:\\\\Users\\\\Student\\\\UK-Housing-Prices-Analysis\\\\E&W Year_2003_2.csv', 'C:\\\\Users\\\\Student\\\\UK-Housing-Prices-Analysis\\\\E&W Year_2004_1.csv', 'C:\\\\Users\\\\Student\\\\UK-Housing-Prices-Analysis\\\\E&W Year_2004_2.csv', 'C:\\\\Users\\\\Student\\\\UK-Housing-Prices-Analysis\\\\E&W Year_2005_1.csv', 'C:\\\\Users\\\\Student\\\\UK-Housing-Prices-Analysis\\\\E&W Year_2005_2.csv', 'C:\\\\Users\\\\Student\\\\UK-Housing-Prices-Analysis\\\\E&W Year_2006_1.csv', 'C:\\\\Users\\\\Student\\\\UK-Housing-Prices-Analysis\\\\E&W Year_2006_2.csv', 'C:\\\\Users\\\\Student\\\\UK-Housing-Prices-Analysis\\\\E&W Year_2007_1.csv', 'C:\\\\Users\\\\Student\\\\UK-Housing-Prices-Analysis\\\\E&W Year_2007_2.csv', 'C:\\\\Users\\\\Student\\\\UK-Housing-Prices-Analysis\\\\E&W Year_2008.csv', 'C:\\\\Users\\\\Student\\\\UK-Housing-Prices-Analysis\\\\E&W Year_2009.csv', 'C:\\\\Users\\\\Student\\\\UK-Housing-Prices-Analysis\\\\E&W Year_2010.csv', 'C:\\\\Users\\\\Student\\\\UK-Housing-Prices-Analysis\\\\E&W Year_2011.csv', 'C:\\\\Users\\\\Student\\\\UK-Housing-Prices-Analysis\\\\E&W Year_2012.csv', 'C:\\\\Users\\\\Student\\\\UK-Housing-Prices-Analysis\\\\E&W Year_2013.csv']\n",
      "Saved to CSV at C:\\Users\\Student\\UK-Housing-Prices-Analysis\\merge_dataset.csv\n"
     ]
    },
    {
     "data": {
      "text/html": [
       "<div><style>\n",
       ".dataframe > thead > tr,\n",
       ".dataframe > tbody > tr {\n",
       "  text-align: right;\n",
       "  white-space: pre-wrap;\n",
       "}\n",
       "</style>\n",
       "<small>shape: (18_720_390, 17)</small><table border=\"1\" class=\"dataframe\"><thead><tr><th>unique_id</th><th>price</th><th>date</th><th>post_code</th><th>property_type</th><th>whether_newbuild</th><th>freehold</th><th>address1</th><th>town</th><th>local_authority</th><th>county</th><th>record_status</th><th>year</th><th>month</th><th>quarter</th><th>region</th><th>country</th></tr><tr><td>str</td><td>i64</td><td>str</td><td>str</td><td>str</td><td>str</td><td>str</td><td>str</td><td>str</td><td>str</td><td>str</td><td>str</td><td>i64</td><td>i64</td><td>i64</td><td>str</td><td>str</td></tr></thead><tbody><tr><td>&quot;{00005916-E189-4E1C-A85A-EB8CF…</td><td>82500</td><td>&quot;29/06/1995 00:00&quot;</td><td>&quot;NE49 9PB&quot;</td><td>&quot;D&quot;</td><td>&quot;Y&quot;</td><td>&quot;F&quot;</td><td>&quot;42&quot;</td><td>&quot;HALTWHISTLE&quot;</td><td>&quot;TYNEDALE&quot;</td><td>&quot;NORTHUMBERLAND&quot;</td><td>&quot;A&quot;</td><td>1995</td><td>6</td><td>2</td><td>&quot;North East&quot;</td><td>&quot;England&quot;</td></tr><tr><td>&quot;{0000C0D6-F362-4810-8693-96897…</td><td>16000</td><td>&quot;28/07/1995 00:00&quot;</td><td>&quot;TS25 5SN&quot;</td><td>&quot;T&quot;</td><td>&quot;N&quot;</td><td>&quot;F&quot;</td><td>&quot;28&quot;</td><td>&quot;HARTLEPOOL&quot;</td><td>&quot;HARTLEPOOL&quot;</td><td>&quot;HARTLEPOOL&quot;</td><td>&quot;A&quot;</td><td>1995</td><td>7</td><td>3</td><td>&quot;North East&quot;</td><td>&quot;England&quot;</td></tr><tr><td>&quot;{0005BD5B-5950-4590-B3E5-63200…</td><td>23000</td><td>&quot;11/08/1995 00:00&quot;</td><td>&quot;TS25 4HT&quot;</td><td>&quot;S&quot;</td><td>&quot;N&quot;</td><td>&quot;F&quot;</td><td>&quot;26&quot;</td><td>&quot;HARTLEPOOL&quot;</td><td>&quot;HARTLEPOOL&quot;</td><td>&quot;HARTLEPOOL&quot;</td><td>&quot;A&quot;</td><td>1995</td><td>8</td><td>3</td><td>&quot;North East&quot;</td><td>&quot;England&quot;</td></tr><tr><td>&quot;{00074E3B-C045-46F3-A08B-83507…</td><td>21000</td><td>&quot;31/10/1995 00:00&quot;</td><td>&quot;DH9 0EP&quot;</td><td>&quot;T&quot;</td><td>&quot;N&quot;</td><td>&quot;F&quot;</td><td>&quot;2&quot;</td><td>&quot;STANLEY&quot;</td><td>&quot;DERWENTSIDE&quot;</td><td>&quot;DURHAM&quot;</td><td>&quot;A&quot;</td><td>1995</td><td>10</td><td>4</td><td>&quot;North East&quot;</td><td>&quot;England&quot;</td></tr><tr><td>&quot;{0007B4EC-A358-437E-83CE-C489E…</td><td>60000</td><td>&quot;19/12/1995 00:00&quot;</td><td>&quot;NE65 8DR&quot;</td><td>&quot;T&quot;</td><td>&quot;N&quot;</td><td>&quot;F&quot;</td><td>&quot;4&quot;</td><td>&quot;MORPETH&quot;</td><td>&quot;ALNWICK&quot;</td><td>&quot;NORTHUMBERLAND&quot;</td><td>&quot;A&quot;</td><td>1995</td><td>12</td><td>4</td><td>&quot;North East&quot;</td><td>&quot;England&quot;</td></tr><tr><td>&hellip;</td><td>&hellip;</td><td>&hellip;</td><td>&hellip;</td><td>&hellip;</td><td>&hellip;</td><td>&hellip;</td><td>&hellip;</td><td>&hellip;</td><td>&hellip;</td><td>&hellip;</td><td>&hellip;</td><td>&hellip;</td><td>&hellip;</td><td>&hellip;</td><td>&hellip;</td><td>&hellip;</td></tr><tr><td>&quot;{8D636320-2F5B-45ED-9ABC-FFF65…</td><td>290000</td><td>&quot;2013-12-11 00:00&quot;</td><td>&quot;BB12 9JL&quot;</td><td>&quot;S&quot;</td><td>&quot;N&quot;</td><td>&quot;F&quot;</td><td>&quot;DIMPENLEY HEAD FARM COTTAGE&quot;</td><td>&quot;BURNLEY&quot;</td><td>&quot;PENDLE&quot;</td><td>&quot;LANCASHIRE&quot;</td><td>&quot;A&quot;</td><td>2013</td><td>12</td><td>4</td><td>&quot;North West&quot;</td><td>&quot;England&quot;</td></tr><tr><td>&quot;{1D8981E5-8EC9-4C51-AC74-FFFB1…</td><td>153000</td><td>&quot;2013-12-09 00:00&quot;</td><td>&quot;SK14 4EA&quot;</td><td>&quot;S&quot;</td><td>&quot;N&quot;</td><td>&quot;F&quot;</td><td>&quot;20&quot;</td><td>&quot;HYDE&quot;</td><td>&quot;TAMESIDE&quot;</td><td>&quot;GREATER MANCHESTER&quot;</td><td>&quot;A&quot;</td><td>2013</td><td>12</td><td>4</td><td>&quot;North West&quot;</td><td>&quot;England&quot;</td></tr><tr><td>&quot;{D9B3A6C3-F8C4-440F-A0D1-FFFD8…</td><td>697000</td><td>&quot;2013-12-13 00:00&quot;</td><td>&quot;BR3 6QR&quot;</td><td>&quot;D&quot;</td><td>&quot;N&quot;</td><td>&quot;F&quot;</td><td>&quot;7&quot;</td><td>&quot;BECKENHAM&quot;</td><td>&quot;BROMLEY&quot;</td><td>&quot;GREATER LONDON&quot;</td><td>&quot;A&quot;</td><td>2013</td><td>12</td><td>4</td><td>&quot;London&quot;</td><td>&quot;England&quot;</td></tr><tr><td>&quot;{471A7FF7-C0FA-4171-BF5B-FFFDE…</td><td>88000</td><td>&quot;2013-12-20 00:00&quot;</td><td>&quot;HR4 0AQ&quot;</td><td>&quot;F&quot;</td><td>&quot;N&quot;</td><td>&quot;L&quot;</td><td>&quot;12&quot;</td><td>&quot;HEREFORD&quot;</td><td>&quot;HEREFORDSHIRE&quot;</td><td>&quot;HEREFORDSHIRE&quot;</td><td>&quot;A&quot;</td><td>2013</td><td>12</td><td>4</td><td>&quot;South West&quot;</td><td>&quot;England&quot;</td></tr><tr><td>&quot;{130C814B-862E-475C-9AB9-FFFE7…</td><td>154500</td><td>&quot;2013-12-13 00:00&quot;</td><td>&quot;L31 2LW&quot;</td><td>&quot;S&quot;</td><td>&quot;N&quot;</td><td>&quot;F&quot;</td><td>&quot;38&quot;</td><td>&quot;LIVERPOOL&quot;</td><td>&quot;SEFTON&quot;</td><td>&quot;MERSEYSIDE&quot;</td><td>&quot;A&quot;</td><td>2013</td><td>12</td><td>4</td><td>&quot;North West&quot;</td><td>&quot;England&quot;</td></tr></tbody></table></div>"
      ],
      "text/plain": [
       "shape: (18_720_390, 17)\n",
       "┌───────────────────┬────────┬────────────┬───────────┬───┬───────┬─────────┬────────────┬─────────┐\n",
       "│ unique_id         ┆ price  ┆ date       ┆ post_code ┆ … ┆ month ┆ quarter ┆ region     ┆ country │\n",
       "│ ---               ┆ ---    ┆ ---        ┆ ---       ┆   ┆ ---   ┆ ---     ┆ ---        ┆ ---     │\n",
       "│ str               ┆ i64    ┆ str        ┆ str       ┆   ┆ i64   ┆ i64     ┆ str        ┆ str     │\n",
       "╞═══════════════════╪════════╪════════════╪═══════════╪═══╪═══════╪═════════╪════════════╪═════════╡\n",
       "│ {00005916-E189-4E ┆ 82500  ┆ 29/06/1995 ┆ NE49 9PB  ┆ … ┆ 6     ┆ 2       ┆ North East ┆ England │\n",
       "│ 1C-A85A-EB8CF…    ┆        ┆ 00:00      ┆           ┆   ┆       ┆         ┆            ┆         │\n",
       "│ {0000C0D6-F362-48 ┆ 16000  ┆ 28/07/1995 ┆ TS25 5SN  ┆ … ┆ 7     ┆ 3       ┆ North East ┆ England │\n",
       "│ 10-8693-96897…    ┆        ┆ 00:00      ┆           ┆   ┆       ┆         ┆            ┆         │\n",
       "│ {0005BD5B-5950-45 ┆ 23000  ┆ 11/08/1995 ┆ TS25 4HT  ┆ … ┆ 8     ┆ 3       ┆ North East ┆ England │\n",
       "│ 90-B3E5-63200…    ┆        ┆ 00:00      ┆           ┆   ┆       ┆         ┆            ┆         │\n",
       "│ {00074E3B-C045-46 ┆ 21000  ┆ 31/10/1995 ┆ DH9 0EP   ┆ … ┆ 10    ┆ 4       ┆ North East ┆ England │\n",
       "│ F3-A08B-83507…    ┆        ┆ 00:00      ┆           ┆   ┆       ┆         ┆            ┆         │\n",
       "│ {0007B4EC-A358-43 ┆ 60000  ┆ 19/12/1995 ┆ NE65 8DR  ┆ … ┆ 12    ┆ 4       ┆ North East ┆ England │\n",
       "│ 7E-83CE-C489E…    ┆        ┆ 00:00      ┆           ┆   ┆       ┆         ┆            ┆         │\n",
       "│ …                 ┆ …      ┆ …          ┆ …         ┆ … ┆ …     ┆ …       ┆ …          ┆ …       │\n",
       "│ {8D636320-2F5B-45 ┆ 290000 ┆ 2013-12-11 ┆ BB12 9JL  ┆ … ┆ 12    ┆ 4       ┆ North West ┆ England │\n",
       "│ ED-9ABC-FFF65…    ┆        ┆ 00:00      ┆           ┆   ┆       ┆         ┆            ┆         │\n",
       "│ {1D8981E5-8EC9-4C ┆ 153000 ┆ 2013-12-09 ┆ SK14 4EA  ┆ … ┆ 12    ┆ 4       ┆ North West ┆ England │\n",
       "│ 51-AC74-FFFB1…    ┆        ┆ 00:00      ┆           ┆   ┆       ┆         ┆            ┆         │\n",
       "│ {D9B3A6C3-F8C4-44 ┆ 697000 ┆ 2013-12-13 ┆ BR3 6QR   ┆ … ┆ 12    ┆ 4       ┆ London     ┆ England │\n",
       "│ 0F-A0D1-FFFD8…    ┆        ┆ 00:00      ┆           ┆   ┆       ┆         ┆            ┆         │\n",
       "│ {471A7FF7-C0FA-41 ┆ 88000  ┆ 2013-12-20 ┆ HR4 0AQ   ┆ … ┆ 12    ┆ 4       ┆ South West ┆ England │\n",
       "│ 71-BF5B-FFFDE…    ┆        ┆ 00:00      ┆           ┆   ┆       ┆         ┆            ┆         │\n",
       "│ {130C814B-862E-47 ┆ 154500 ┆ 2013-12-13 ┆ L31 2LW   ┆ … ┆ 12    ┆ 4       ┆ North West ┆ England │\n",
       "│ 5C-9AB9-FFFE7…    ┆        ┆ 00:00      ┆           ┆   ┆       ┆         ┆            ┆         │\n",
       "└───────────────────┴────────┴────────────┴───────────┴───┴───────┴─────────┴────────────┴─────────┘"
      ]
     },
     "execution_count": 1,
     "metadata": {},
     "output_type": "execute_result"
    }
   ],
   "source": [
    "import polars as pl\n",
    "import glob\n",
    "import os\n",
    "import numpy as np\n",
    "\n",
    "# Let's first check what files exist\n",
    "folder_path = r\"C:\\Users\\Student\\UK-Housing-Prices-Analysis\"\n",
    "csv_pattern = os.path.join(folder_path, \"*.csv\")\n",
    "\n",
    "# Print the files found to debug\n",
    "file_list = glob.glob(csv_pattern)\n",
    "print(\"Files found:\", file_list)\n",
    "\n",
    "if not file_list:\n",
    "    raise Exception(\"No CSV files found in the specified directory!\")\n",
    "\n",
    "# Combine all CSV files into one DataFrame\n",
    "combined_df = pl.concat((pl.read_csv(file) for file in file_list))\n",
    "\n",
    "# Function to save the merged dataset as CSV\n",
    "def output(mergelist):\n",
    "    csv_path = os.path.join(folder_path, \"merge_dataset.csv\")\n",
    "    # Using write_csv instead of to_csv for Polars DataFrame\n",
    "    mergelist.write_csv(csv_path)\n",
    "    print(f'Saved to CSV at {csv_path}')\n",
    "    return mergelist\n",
    "\n",
    "# Call the output function with the combined DataFrame\n",
    "output(combined_df)"
   ]
  },
  {
   "cell_type": "code",
   "execution_count": 5,
   "metadata": {},
   "outputs": [
    {
     "data": {
      "text/html": [
       "<div><style>\n",
       ".dataframe > thead > tr,\n",
       ".dataframe > tbody > tr {\n",
       "  text-align: right;\n",
       "  white-space: pre-wrap;\n",
       "}\n",
       "</style>\n",
       "<small>shape: (9, 18)</small><table border=\"1\" class=\"dataframe\"><thead><tr><th>statistic</th><th>unique_id</th><th>price</th><th>date</th><th>post_code</th><th>property_type</th><th>whether_newbuild</th><th>freehold</th><th>address1</th><th>town</th><th>local_authority</th><th>county</th><th>record_status</th><th>year</th><th>month</th><th>quarter</th><th>region</th><th>country</th></tr><tr><td>str</td><td>str</td><td>f64</td><td>str</td><td>str</td><td>str</td><td>str</td><td>str</td><td>str</td><td>str</td><td>str</td><td>str</td><td>str</td><td>f64</td><td>f64</td><td>f64</td><td>str</td><td>str</td></tr></thead><tbody><tr><td>&quot;count&quot;</td><td>&quot;18720390&quot;</td><td>1.872039e7</td><td>&quot;18720390&quot;</td><td>&quot;18720390&quot;</td><td>&quot;18720390&quot;</td><td>&quot;18720390&quot;</td><td>&quot;18720390&quot;</td><td>&quot;18720390&quot;</td><td>&quot;18720390&quot;</td><td>&quot;18720390&quot;</td><td>&quot;18720390&quot;</td><td>&quot;18720390&quot;</td><td>1.872039e7</td><td>1.872039e7</td><td>1.872039e7</td><td>&quot;18720390&quot;</td><td>&quot;18720390&quot;</td></tr><tr><td>&quot;null_count&quot;</td><td>&quot;0&quot;</td><td>0.0</td><td>&quot;0&quot;</td><td>&quot;0&quot;</td><td>&quot;0&quot;</td><td>&quot;0&quot;</td><td>&quot;0&quot;</td><td>&quot;0&quot;</td><td>&quot;0&quot;</td><td>&quot;0&quot;</td><td>&quot;0&quot;</td><td>&quot;0&quot;</td><td>0.0</td><td>0.0</td><td>0.0</td><td>&quot;0&quot;</td><td>&quot;0&quot;</td></tr><tr><td>&quot;mean&quot;</td><td>null</td><td>156211.54571</td><td>null</td><td>null</td><td>null</td><td>null</td><td>null</td><td>null</td><td>null</td><td>null</td><td>null</td><td>null</td><td>2003.327378</td><td>6.808984</td><td>2.596922</td><td>null</td><td>null</td></tr><tr><td>&quot;std&quot;</td><td>null</td><td>173010.586661</td><td>null</td><td>null</td><td>null</td><td>null</td><td>null</td><td>null</td><td>null</td><td>null</td><td>null</td><td>null</td><td>4.986825</td><td>3.30632</td><td>1.081937</td><td>null</td><td>null</td></tr><tr><td>&quot;min&quot;</td><td>&quot;{000000AC-478E-47B3-9B71-7C1E9…</td><td>5050.0</td><td>&quot;01/01/1995 00:00&quot;</td><td>&quot; &quot;</td><td>&quot;D&quot;</td><td>&quot;N&quot;</td><td>&quot;F&quot;</td><td>&quot; &quot;</td><td>&quot;ABBOTS LANGLEY&quot;</td><td>&quot;ABERCONWY&quot;</td><td>&quot;AVON&quot;</td><td>&quot;A&quot;</td><td>1995.0</td><td>1.0</td><td>1.0</td><td>&quot;East Midlands&quot;</td><td>&quot;England&quot;</td></tr><tr><td>&quot;25%&quot;</td><td>null</td><td>69000.0</td><td>null</td><td>null</td><td>null</td><td>null</td><td>null</td><td>null</td><td>null</td><td>null</td><td>null</td><td>null</td><td>1999.0</td><td>4.0</td><td>2.0</td><td>null</td><td>null</td></tr><tr><td>&quot;50%&quot;</td><td>null</td><td>120000.0</td><td>null</td><td>null</td><td>null</td><td>null</td><td>null</td><td>null</td><td>null</td><td>null</td><td>null</td><td>null</td><td>2003.0</td><td>7.0</td><td>3.0</td><td>null</td><td>null</td></tr><tr><td>&quot;75%&quot;</td><td>null</td><td>190000.0</td><td>null</td><td>null</td><td>null</td><td>null</td><td>null</td><td>null</td><td>null</td><td>null</td><td>null</td><td>null</td><td>2007.0</td><td>10.0</td><td>4.0</td><td>null</td><td>null</td></tr><tr><td>&quot;max&quot;</td><td>&quot;{FFFFFE71-D9FC-4232-AD14-819C8…</td><td>5.4959e7</td><td>&quot;31/12/2011 00:00&quot;</td><td>&quot;YO8 9YE&quot;</td><td>&quot;T&quot;</td><td>&quot;Y&quot;</td><td>&quot;U&quot;</td><td>&quot;ZYTEK HOUSE&quot;</td><td>&quot;YSTRAD MEURIG&quot;</td><td>&quot;YORK&quot;</td><td>&quot;YORK&quot;</td><td>&quot;A&quot;</td><td>2013.0</td><td>12.0</td><td>4.0</td><td>&quot;Yorkshire and The Humber&quot;</td><td>&quot;Wales&quot;</td></tr></tbody></table></div>"
      ],
      "text/plain": [
       "shape: (9, 18)\n",
       "┌───────────┬───────────┬───────────┬───────────┬───┬───────────┬───────────┬───────────┬──────────┐\n",
       "│ statistic ┆ unique_id ┆ price     ┆ date      ┆ … ┆ month     ┆ quarter   ┆ region    ┆ country  │\n",
       "│ ---       ┆ ---       ┆ ---       ┆ ---       ┆   ┆ ---       ┆ ---       ┆ ---       ┆ ---      │\n",
       "│ str       ┆ str       ┆ f64       ┆ str       ┆   ┆ f64       ┆ f64       ┆ str       ┆ str      │\n",
       "╞═══════════╪═══════════╪═══════════╪═══════════╪═══╪═══════════╪═══════════╪═══════════╪══════════╡\n",
       "│ count     ┆ 18720390  ┆ 1.872039e ┆ 18720390  ┆ … ┆ 1.872039e ┆ 1.872039e ┆ 18720390  ┆ 18720390 │\n",
       "│           ┆           ┆ 7         ┆           ┆   ┆ 7         ┆ 7         ┆           ┆          │\n",
       "│ null_coun ┆ 0         ┆ 0.0       ┆ 0         ┆ … ┆ 0.0       ┆ 0.0       ┆ 0         ┆ 0        │\n",
       "│ t         ┆           ┆           ┆           ┆   ┆           ┆           ┆           ┆          │\n",
       "│ mean      ┆ null      ┆ 156211.54 ┆ null      ┆ … ┆ 6.808984  ┆ 2.596922  ┆ null      ┆ null     │\n",
       "│           ┆           ┆ 571       ┆           ┆   ┆           ┆           ┆           ┆          │\n",
       "│ std       ┆ null      ┆ 173010.58 ┆ null      ┆ … ┆ 3.30632   ┆ 1.081937  ┆ null      ┆ null     │\n",
       "│           ┆           ┆ 6661      ┆           ┆   ┆           ┆           ┆           ┆          │\n",
       "│ min       ┆ {000000AC ┆ 5050.0    ┆ 01/01/199 ┆ … ┆ 1.0       ┆ 1.0       ┆ East      ┆ England  │\n",
       "│           ┆ -478E-47B ┆           ┆ 5 00:00   ┆   ┆           ┆           ┆ Midlands  ┆          │\n",
       "│           ┆ 3-9B71-7C ┆           ┆           ┆   ┆           ┆           ┆           ┆          │\n",
       "│           ┆ 1E9…      ┆           ┆           ┆   ┆           ┆           ┆           ┆          │\n",
       "│ 25%       ┆ null      ┆ 69000.0   ┆ null      ┆ … ┆ 4.0       ┆ 2.0       ┆ null      ┆ null     │\n",
       "│ 50%       ┆ null      ┆ 120000.0  ┆ null      ┆ … ┆ 7.0       ┆ 3.0       ┆ null      ┆ null     │\n",
       "│ 75%       ┆ null      ┆ 190000.0  ┆ null      ┆ … ┆ 10.0      ┆ 4.0       ┆ null      ┆ null     │\n",
       "│ max       ┆ {FFFFFE71 ┆ 5.4959e7  ┆ 31/12/201 ┆ … ┆ 12.0      ┆ 4.0       ┆ Yorkshire ┆ Wales    │\n",
       "│           ┆ -D9FC-423 ┆           ┆ 1 00:00   ┆   ┆           ┆           ┆ and The   ┆          │\n",
       "│           ┆ 2-AD14-81 ┆           ┆           ┆   ┆           ┆           ┆ Humber    ┆          │\n",
       "│           ┆ 9C8…      ┆           ┆           ┆   ┆           ┆           ┆           ┆          │\n",
       "└───────────┴───────────┴───────────┴───────────┴───┴───────────┴───────────┴───────────┴──────────┘"
      ]
     },
     "execution_count": 5,
     "metadata": {},
     "output_type": "execute_result"
    }
   ],
   "source": [
    "# Summary statistics\n",
    "combined_df.describe()"
   ]
  },
  {
   "cell_type": "code",
   "execution_count": 10,
   "metadata": {},
   "outputs": [
    {
     "ename": "AttributeError",
     "evalue": "'DataFrame' object has no attribute 'hist'",
     "output_type": "error",
     "traceback": [
      "\u001b[1;31m---------------------------------------------------------------------------\u001b[0m",
      "\u001b[1;31mAttributeError\u001b[0m                            Traceback (most recent call last)",
      "Cell \u001b[1;32mIn[10], line 6\u001b[0m\n\u001b[0;32m      3\u001b[0m \u001b[38;5;28;01mimport\u001b[39;00m \u001b[38;5;21;01mseaborn\u001b[39;00m \u001b[38;5;28;01mas\u001b[39;00m \u001b[38;5;21;01msns\u001b[39;00m\n\u001b[0;32m      5\u001b[0m \u001b[38;5;66;03m# Histogram\u001b[39;00m\n\u001b[1;32m----> 6\u001b[0m \u001b[43mcombined_df\u001b[49m\u001b[38;5;241;43m.\u001b[39;49m\u001b[43mhist\u001b[49m(figsize\u001b[38;5;241m=\u001b[39m(\u001b[38;5;241m10\u001b[39m, \u001b[38;5;241m6\u001b[39m))\n\u001b[0;32m      7\u001b[0m plt\u001b[38;5;241m.\u001b[39mshow()\n\u001b[0;32m      9\u001b[0m \u001b[38;5;66;03m# Boxplot\u001b[39;00m\n",
      "\u001b[1;31mAttributeError\u001b[0m: 'DataFrame' object has no attribute 'hist'"
     ]
    }
   ],
   "source": [
    "# Data Visualisation\n",
    "import matplotlib.pyplot as plt\n",
    "import seaborn as sns\n",
    "\n",
    "# Histogram\n",
    "combined_df.hist(figsize=(10, 6))\n",
    "plt.show()\n",
    "\n",
    "# Boxplot\n",
    "sns.boxplot(data=combined_df)\n",
    "plt.show()\n",
    "\n",
    "# Correlation Matrix\n",
    "corr_matrix = combined_df.corr()\n",
    "sns.heatmap(corr_matrix, annot=True, cmap='coolwarm', square=True)\n",
    "plt.show()"
   ]
  },
  {
   "cell_type": "code",
   "execution_count": 9,
   "metadata": {},
   "outputs": [
    {
     "ename": "AttributeError",
     "evalue": "'DataFrame' object has no attribute 'isnull'",
     "output_type": "error",
     "traceback": [
      "\u001b[1;31m---------------------------------------------------------------------------\u001b[0m",
      "\u001b[1;31mAttributeError\u001b[0m                            Traceback (most recent call last)",
      "Cell \u001b[1;32mIn[9], line 2\u001b[0m\n\u001b[0;32m      1\u001b[0m \u001b[38;5;66;03m#Missing Value Analysis\u001b[39;00m\n\u001b[1;32m----> 2\u001b[0m \u001b[38;5;28mprint\u001b[39m(\u001b[43mcombined_df\u001b[49m\u001b[38;5;241;43m.\u001b[39;49m\u001b[43misnull\u001b[49m()\u001b[38;5;241m.\u001b[39msum())\n",
      "\u001b[1;31mAttributeError\u001b[0m: 'DataFrame' object has no attribute 'isnull'"
     ]
    }
   ],
   "source": [
    "#Missing Value Analysis\n",
    "print(combined_df.isnull().sum())"
   ]
  },
  {
   "cell_type": "code",
   "execution_count": null,
   "metadata": {},
   "outputs": [],
   "source": [
    "# Scatter plot\n",
    "sns.scatterplot(x='column1', y='column2', data=mergelist)\n",
    "plt.show()"
   ]
  },
  {
   "cell_type": "code",
   "execution_count": null,
   "metadata": {},
   "outputs": [],
   "source": [
    "# Pair Plots\n",
    "sns.pairplot(mergelist)\n",
    "plt.show()"
   ]
  }
 ],
 "metadata": {
  "kernelspec": {
   "display_name": "Python 3",
   "language": "python",
   "name": "python3"
  },
  "language_info": {
   "codemirror_mode": {
    "name": "ipython",
    "version": 3
   },
   "file_extension": ".py",
   "mimetype": "text/x-python",
   "name": "python",
   "nbconvert_exporter": "python",
   "pygments_lexer": "ipython3",
   "version": "3.12.3"
  }
 },
 "nbformat": 4,
 "nbformat_minor": 2
}
