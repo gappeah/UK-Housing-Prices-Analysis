{
 "cells": [
  {
   "cell_type": "markdown",
   "metadata": {},
   "source": [
    "# UK House Prices Data Analysis Project"
   ]
  },
  {
   "cell_type": "code",
   "execution_count": 3,
   "metadata": {},
   "outputs": [
    {
     "name": "stdout",
     "output_type": "stream",
     "text": [
      "Files found: ['C:\\\\Users\\\\Student\\\\UK-Housing-Prices-Analysis\\\\E&W Year_1995.csv', 'C:\\\\Users\\\\Student\\\\UK-Housing-Prices-Analysis\\\\E&W Year_2001_1.csv', 'C:\\\\Users\\\\Student\\\\UK-Housing-Prices-Analysis\\\\E&W Year_2001_2.csv', 'C:\\\\Users\\\\Student\\\\UK-Housing-Prices-Analysis\\\\E&W Year_2013.csv']\n"
     ]
    },
    {
     "ename": "TypeError",
     "evalue": "concat() got an unexpected keyword argument 'ignore_index'",
     "output_type": "error",
     "traceback": [
      "\u001b[1;31m---------------------------------------------------------------------------\u001b[0m",
      "\u001b[1;31mTypeError\u001b[0m                                 Traceback (most recent call last)",
      "Cell \u001b[1;32mIn[3], line 18\u001b[0m\n\u001b[0;32m     15\u001b[0m     \u001b[38;5;28;01mraise\u001b[39;00m \u001b[38;5;167;01mException\u001b[39;00m(\u001b[38;5;124m\"\u001b[39m\u001b[38;5;124mNo CSV files found in the specified directory!\u001b[39m\u001b[38;5;124m\"\u001b[39m)\n\u001b[0;32m     17\u001b[0m \u001b[38;5;66;03m# Combine all CSV files into one DataFrame\u001b[39;00m\n\u001b[1;32m---> 18\u001b[0m combined_df \u001b[38;5;241m=\u001b[39m \u001b[43mpl\u001b[49m\u001b[38;5;241;43m.\u001b[39;49m\u001b[43mconcat\u001b[49m\u001b[43m(\u001b[49m\u001b[43m(\u001b[49m\u001b[43mpl\u001b[49m\u001b[38;5;241;43m.\u001b[39;49m\u001b[43mread_csv\u001b[49m\u001b[43m(\u001b[49m\u001b[43mfile\u001b[49m\u001b[43m)\u001b[49m\u001b[43m \u001b[49m\u001b[38;5;28;43;01mfor\u001b[39;49;00m\u001b[43m \u001b[49m\u001b[43mfile\u001b[49m\u001b[43m \u001b[49m\u001b[38;5;129;43;01min\u001b[39;49;00m\u001b[43m \u001b[49m\u001b[43mfile_list\u001b[49m\u001b[43m)\u001b[49m\u001b[43m,\u001b[49m\u001b[43m \u001b[49m\u001b[43mignore_index\u001b[49m\u001b[38;5;241;43m=\u001b[39;49m\u001b[38;5;28;43;01mTrue\u001b[39;49;00m\u001b[43m)\u001b[49m\n\u001b[0;32m     20\u001b[0m \u001b[38;5;66;03m# Function to save the merged dataset as CSV\u001b[39;00m\n\u001b[0;32m     21\u001b[0m \u001b[38;5;28;01mdef\u001b[39;00m \u001b[38;5;21moutput\u001b[39m(mergelist):\n",
      "\u001b[1;31mTypeError\u001b[0m: concat() got an unexpected keyword argument 'ignore_index'"
     ]
    }
   ],
   "source": [
    "# Importing libraires and combining files\n",
    "import polars as pl\n",
    "import glob\n",
    "import os\n",
    "\n",
    "# Let's first check what files exist\n",
    "folder_path = r\"C:\\Users\\Student\\UK-Housing-Prices-Analysis\"\n",
    "csv_pattern = os.path.join(folder_path, \"*.csv\")\n",
    "\n",
    "# Print the files found to debug\n",
    "file_list = glob.glob(csv_pattern)\n",
    "print(\"Files found:\", file_list)  # This will help us see if any files are being found\n",
    "\n",
    "if not file_list:\n",
    "    raise Exception(\"No CSV files found in the specified directory!\")\n",
    "\n",
    "# Combine all CSV files into one DataFrame\n",
    "combined_df = pl.concat((pl.read_csv(file) for file in file_list), ignore_index=True)\n",
    "\n",
    "# Function to save the merged dataset as CSV\n",
    "def output(mergelist):\n",
    "    csv_path = os.path.join(folder_path, \"merge_dataset.csv\")\n",
    "    mergelist.to_csv(csv_path, index=False)\n",
    "    print(f'Saved to CSV at {csv_path}')\n",
    "    return mergelist\n",
    "\n",
    "# Call the output function with the combined DataFrame\n",
    "output(combined_df)\n"
   ]
  }
 ],
 "metadata": {
  "kernelspec": {
   "display_name": ".venv",
   "language": "python",
   "name": "python3"
  },
  "language_info": {
   "codemirror_mode": {
    "name": "ipython",
    "version": 3
   },
   "file_extension": ".py",
   "mimetype": "text/x-python",
   "name": "python",
   "nbconvert_exporter": "python",
   "pygments_lexer": "ipython3",
   "version": "3.12.3"
  }
 },
 "nbformat": 4,
 "nbformat_minor": 2
}
