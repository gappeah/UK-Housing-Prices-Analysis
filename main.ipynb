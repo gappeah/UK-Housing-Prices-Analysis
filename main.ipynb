{
 "cells": [
  {
   "cell_type": "markdown",
   "metadata": {},
   "source": [
    "# Importing libraires and combining files "
   ]
  },
  {
   "cell_type": "code",
   "execution_count": null,
   "metadata": {},
   "outputs": [],
   "source": [
    "\n",
    "\n",
    "import pandas as pd\n",
    "import numpy as np\n",
    "import matplotlib as plt\n",
    "\n",
    "import glob\n",
    "\n",
    "folder_path = \"C:\\Users\\Student\\UK House Prices Data Analysis*csv\"\n",
    "\n",
    "file_list = glob.glob(\"UK House Prices Data Analysis.*csv\")\n",
    "\n",
    "combined_df = pd.concat((pd.read_csv(file) for file in file_list), ignore_index=True)\n",
    "\n",
    "print(combined_df)\n",
    "\n",
    "\n",
    "def output(mergelist):\n",
    "    csv_path = \"merge_dataset.csv\"\n",
    "    combined_df.to_csv(csv_path, index=False)  # Adjust the path\n",
    "    print(f'Saved to CSV at {csv_path}')\n",
    "    return combined_df\n",
    "\n"
   ]
  }
 ],
 "metadata": {
  "kernelspec": {
   "display_name": "Python 3",
   "language": "python",
   "name": "python3"
  },
  "language_info": {
   "name": "python",
   "version": "3.12.3"
  }
 },
 "nbformat": 4,
 "nbformat_minor": 2
}
