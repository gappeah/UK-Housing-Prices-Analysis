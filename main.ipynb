{
 "cells": [
  {
   "cell_type": "markdown",
   "metadata": {},
   "source": [
    "# UK House Prices Data Analysis Project"
   ]
  },
  {
   "cell_type": "code",
   "execution_count": 6,
   "metadata": {},
   "outputs": [
    {
     "name": "stdout",
     "output_type": "stream",
     "text": [
      "Files found: ['C:\\\\Users\\\\Student\\\\UK-Housing-Prices-Analysis\\\\E&W Year_1995.csv', 'C:\\\\Users\\\\Student\\\\UK-Housing-Prices-Analysis\\\\E&W Year_2013.csv']\n",
      "Saved to CSV at C:\\Users\\Student\\UK-Housing-Prices-Analysis\\merge_dataset.csv\n"
     ]
    },
    {
     "data": {
      "text/html": [
       "<div><style>\n",
       ".dataframe > thead > tr,\n",
       ".dataframe > tbody > tr {\n",
       "  text-align: right;\n",
       "  white-space: pre-wrap;\n",
       "}\n",
       "</style>\n",
       "<small>shape: (1_474_803, 17)</small><table border=\"1\" class=\"dataframe\"><thead><tr><th>unique_id</th><th>price</th><th>date</th><th>post_code</th><th>property_type</th><th>whether_newbuild</th><th>freehold</th><th>address1</th><th>town</th><th>local_authority</th><th>county</th><th>record_status</th><th>year</th><th>month</th><th>quarter</th><th>region</th><th>country</th></tr><tr><td>str</td><td>i64</td><td>str</td><td>str</td><td>str</td><td>str</td><td>str</td><td>str</td><td>str</td><td>str</td><td>str</td><td>str</td><td>i64</td><td>i64</td><td>i64</td><td>str</td><td>str</td></tr></thead><tbody><tr><td>&quot;{00005916-E189-4E1C-A85A-EB8CF…</td><td>82500</td><td>&quot;29/06/1995 00:00&quot;</td><td>&quot;NE49 9PB&quot;</td><td>&quot;D&quot;</td><td>&quot;Y&quot;</td><td>&quot;F&quot;</td><td>&quot;42&quot;</td><td>&quot;HALTWHISTLE&quot;</td><td>&quot;TYNEDALE&quot;</td><td>&quot;NORTHUMBERLAND&quot;</td><td>&quot;A&quot;</td><td>1995</td><td>6</td><td>2</td><td>&quot;North East&quot;</td><td>&quot;England&quot;</td></tr><tr><td>&quot;{0000C0D6-F362-4810-8693-96897…</td><td>16000</td><td>&quot;28/07/1995 00:00&quot;</td><td>&quot;TS25 5SN&quot;</td><td>&quot;T&quot;</td><td>&quot;N&quot;</td><td>&quot;F&quot;</td><td>&quot;28&quot;</td><td>&quot;HARTLEPOOL&quot;</td><td>&quot;HARTLEPOOL&quot;</td><td>&quot;HARTLEPOOL&quot;</td><td>&quot;A&quot;</td><td>1995</td><td>7</td><td>3</td><td>&quot;North East&quot;</td><td>&quot;England&quot;</td></tr><tr><td>&quot;{0005BD5B-5950-4590-B3E5-63200…</td><td>23000</td><td>&quot;11/08/1995 00:00&quot;</td><td>&quot;TS25 4HT&quot;</td><td>&quot;S&quot;</td><td>&quot;N&quot;</td><td>&quot;F&quot;</td><td>&quot;26&quot;</td><td>&quot;HARTLEPOOL&quot;</td><td>&quot;HARTLEPOOL&quot;</td><td>&quot;HARTLEPOOL&quot;</td><td>&quot;A&quot;</td><td>1995</td><td>8</td><td>3</td><td>&quot;North East&quot;</td><td>&quot;England&quot;</td></tr><tr><td>&quot;{00074E3B-C045-46F3-A08B-83507…</td><td>21000</td><td>&quot;31/10/1995 00:00&quot;</td><td>&quot;DH9 0EP&quot;</td><td>&quot;T&quot;</td><td>&quot;N&quot;</td><td>&quot;F&quot;</td><td>&quot;2&quot;</td><td>&quot;STANLEY&quot;</td><td>&quot;DERWENTSIDE&quot;</td><td>&quot;DURHAM&quot;</td><td>&quot;A&quot;</td><td>1995</td><td>10</td><td>4</td><td>&quot;North East&quot;</td><td>&quot;England&quot;</td></tr><tr><td>&quot;{0007B4EC-A358-437E-83CE-C489E…</td><td>60000</td><td>&quot;19/12/1995 00:00&quot;</td><td>&quot;NE65 8DR&quot;</td><td>&quot;T&quot;</td><td>&quot;N&quot;</td><td>&quot;F&quot;</td><td>&quot;4&quot;</td><td>&quot;MORPETH&quot;</td><td>&quot;ALNWICK&quot;</td><td>&quot;NORTHUMBERLAND&quot;</td><td>&quot;A&quot;</td><td>1995</td><td>12</td><td>4</td><td>&quot;North East&quot;</td><td>&quot;England&quot;</td></tr><tr><td>&hellip;</td><td>&hellip;</td><td>&hellip;</td><td>&hellip;</td><td>&hellip;</td><td>&hellip;</td><td>&hellip;</td><td>&hellip;</td><td>&hellip;</td><td>&hellip;</td><td>&hellip;</td><td>&hellip;</td><td>&hellip;</td><td>&hellip;</td><td>&hellip;</td><td>&hellip;</td><td>&hellip;</td></tr><tr><td>&quot;{8D636320-2F5B-45ED-9ABC-FFF65…</td><td>290000</td><td>&quot;2013-12-11 00:00&quot;</td><td>&quot;BB12 9JL&quot;</td><td>&quot;S&quot;</td><td>&quot;N&quot;</td><td>&quot;F&quot;</td><td>&quot;DIMPENLEY HEAD FARM COTTAGE&quot;</td><td>&quot;BURNLEY&quot;</td><td>&quot;PENDLE&quot;</td><td>&quot;LANCASHIRE&quot;</td><td>&quot;A&quot;</td><td>2013</td><td>12</td><td>4</td><td>&quot;North West&quot;</td><td>&quot;England&quot;</td></tr><tr><td>&quot;{1D8981E5-8EC9-4C51-AC74-FFFB1…</td><td>153000</td><td>&quot;2013-12-09 00:00&quot;</td><td>&quot;SK14 4EA&quot;</td><td>&quot;S&quot;</td><td>&quot;N&quot;</td><td>&quot;F&quot;</td><td>&quot;20&quot;</td><td>&quot;HYDE&quot;</td><td>&quot;TAMESIDE&quot;</td><td>&quot;GREATER MANCHESTER&quot;</td><td>&quot;A&quot;</td><td>2013</td><td>12</td><td>4</td><td>&quot;North West&quot;</td><td>&quot;England&quot;</td></tr><tr><td>&quot;{D9B3A6C3-F8C4-440F-A0D1-FFFD8…</td><td>697000</td><td>&quot;2013-12-13 00:00&quot;</td><td>&quot;BR3 6QR&quot;</td><td>&quot;D&quot;</td><td>&quot;N&quot;</td><td>&quot;F&quot;</td><td>&quot;7&quot;</td><td>&quot;BECKENHAM&quot;</td><td>&quot;BROMLEY&quot;</td><td>&quot;GREATER LONDON&quot;</td><td>&quot;A&quot;</td><td>2013</td><td>12</td><td>4</td><td>&quot;London&quot;</td><td>&quot;England&quot;</td></tr><tr><td>&quot;{471A7FF7-C0FA-4171-BF5B-FFFDE…</td><td>88000</td><td>&quot;2013-12-20 00:00&quot;</td><td>&quot;HR4 0AQ&quot;</td><td>&quot;F&quot;</td><td>&quot;N&quot;</td><td>&quot;L&quot;</td><td>&quot;12&quot;</td><td>&quot;HEREFORD&quot;</td><td>&quot;HEREFORDSHIRE&quot;</td><td>&quot;HEREFORDSHIRE&quot;</td><td>&quot;A&quot;</td><td>2013</td><td>12</td><td>4</td><td>&quot;South West&quot;</td><td>&quot;England&quot;</td></tr><tr><td>&quot;{130C814B-862E-475C-9AB9-FFFE7…</td><td>154500</td><td>&quot;2013-12-13 00:00&quot;</td><td>&quot;L31 2LW&quot;</td><td>&quot;S&quot;</td><td>&quot;N&quot;</td><td>&quot;F&quot;</td><td>&quot;38&quot;</td><td>&quot;LIVERPOOL&quot;</td><td>&quot;SEFTON&quot;</td><td>&quot;MERSEYSIDE&quot;</td><td>&quot;A&quot;</td><td>2013</td><td>12</td><td>4</td><td>&quot;North West&quot;</td><td>&quot;England&quot;</td></tr></tbody></table></div>"
      ],
      "text/plain": [
       "shape: (1_474_803, 17)\n",
       "┌───────────────────┬────────┬────────────┬───────────┬───┬───────┬─────────┬────────────┬─────────┐\n",
       "│ unique_id         ┆ price  ┆ date       ┆ post_code ┆ … ┆ month ┆ quarter ┆ region     ┆ country │\n",
       "│ ---               ┆ ---    ┆ ---        ┆ ---       ┆   ┆ ---   ┆ ---     ┆ ---        ┆ ---     │\n",
       "│ str               ┆ i64    ┆ str        ┆ str       ┆   ┆ i64   ┆ i64     ┆ str        ┆ str     │\n",
       "╞═══════════════════╪════════╪════════════╪═══════════╪═══╪═══════╪═════════╪════════════╪═════════╡\n",
       "│ {00005916-E189-4E ┆ 82500  ┆ 29/06/1995 ┆ NE49 9PB  ┆ … ┆ 6     ┆ 2       ┆ North East ┆ England │\n",
       "│ 1C-A85A-EB8CF…    ┆        ┆ 00:00      ┆           ┆   ┆       ┆         ┆            ┆         │\n",
       "│ {0000C0D6-F362-48 ┆ 16000  ┆ 28/07/1995 ┆ TS25 5SN  ┆ … ┆ 7     ┆ 3       ┆ North East ┆ England │\n",
       "│ 10-8693-96897…    ┆        ┆ 00:00      ┆           ┆   ┆       ┆         ┆            ┆         │\n",
       "│ {0005BD5B-5950-45 ┆ 23000  ┆ 11/08/1995 ┆ TS25 4HT  ┆ … ┆ 8     ┆ 3       ┆ North East ┆ England │\n",
       "│ 90-B3E5-63200…    ┆        ┆ 00:00      ┆           ┆   ┆       ┆         ┆            ┆         │\n",
       "│ {00074E3B-C045-46 ┆ 21000  ┆ 31/10/1995 ┆ DH9 0EP   ┆ … ┆ 10    ┆ 4       ┆ North East ┆ England │\n",
       "│ F3-A08B-83507…    ┆        ┆ 00:00      ┆           ┆   ┆       ┆         ┆            ┆         │\n",
       "│ {0007B4EC-A358-43 ┆ 60000  ┆ 19/12/1995 ┆ NE65 8DR  ┆ … ┆ 12    ┆ 4       ┆ North East ┆ England │\n",
       "│ 7E-83CE-C489E…    ┆        ┆ 00:00      ┆           ┆   ┆       ┆         ┆            ┆         │\n",
       "│ …                 ┆ …      ┆ …          ┆ …         ┆ … ┆ …     ┆ …       ┆ …          ┆ …       │\n",
       "│ {8D636320-2F5B-45 ┆ 290000 ┆ 2013-12-11 ┆ BB12 9JL  ┆ … ┆ 12    ┆ 4       ┆ North West ┆ England │\n",
       "│ ED-9ABC-FFF65…    ┆        ┆ 00:00      ┆           ┆   ┆       ┆         ┆            ┆         │\n",
       "│ {1D8981E5-8EC9-4C ┆ 153000 ┆ 2013-12-09 ┆ SK14 4EA  ┆ … ┆ 12    ┆ 4       ┆ North West ┆ England │\n",
       "│ 51-AC74-FFFB1…    ┆        ┆ 00:00      ┆           ┆   ┆       ┆         ┆            ┆         │\n",
       "│ {D9B3A6C3-F8C4-44 ┆ 697000 ┆ 2013-12-13 ┆ BR3 6QR   ┆ … ┆ 12    ┆ 4       ┆ London     ┆ England │\n",
       "│ 0F-A0D1-FFFD8…    ┆        ┆ 00:00      ┆           ┆   ┆       ┆         ┆            ┆         │\n",
       "│ {471A7FF7-C0FA-41 ┆ 88000  ┆ 2013-12-20 ┆ HR4 0AQ   ┆ … ┆ 12    ┆ 4       ┆ South West ┆ England │\n",
       "│ 71-BF5B-FFFDE…    ┆        ┆ 00:00      ┆           ┆   ┆       ┆         ┆            ┆         │\n",
       "│ {130C814B-862E-47 ┆ 154500 ┆ 2013-12-13 ┆ L31 2LW   ┆ … ┆ 12    ┆ 4       ┆ North West ┆ England │\n",
       "│ 5C-9AB9-FFFE7…    ┆        ┆ 00:00      ┆           ┆   ┆       ┆         ┆            ┆         │\n",
       "└───────────────────┴────────┴────────────┴───────────┴───┴───────┴─────────┴────────────┴─────────┘"
      ]
     },
     "execution_count": 6,
     "metadata": {},
     "output_type": "execute_result"
    }
   ],
   "source": [
    "import polars as pl\n",
    "import glob\n",
    "import os\n",
    "import numpy as np\n",
    "\n",
    "# Let's first check what files exist\n",
    "folder_path = r\"C:\\Users\\Student\\UK-Housing-Prices-Analysis\"\n",
    "csv_pattern = os.path.join(folder_path, \"*.csv\")\n",
    "\n",
    "# Print the files found to debug\n",
    "file_list = glob.glob(csv_pattern)\n",
    "print(\"Files found:\", file_list)\n",
    "\n",
    "if not file_list:\n",
    "    raise Exception(\"No CSV files found in the specified directory!\")\n",
    "\n",
    "# Combine all CSV files into one DataFrame\n",
    "combined_df = pl.concat((pl.read_csv(file) for file in file_list))\n",
    "\n",
    "# Function to save the merged dataset as CSV\n",
    "def output(mergelist):\n",
    "    csv_path = os.path.join(folder_path, \"merge_dataset.csv\")\n",
    "    # Using write_csv instead of to_csv for Polars DataFrame\n",
    "    mergelist.write_csv(csv_path)\n",
    "    print(f'Saved to CSV at {csv_path}')\n",
    "    return mergelist\n",
    "\n",
    "# Call the output function with the combined DataFrame\n",
    "output(combined_df)"
   ]
  }
 ],
 "metadata": {
  "kernelspec": {
   "display_name": "Python 3",
   "language": "python",
   "name": "python3"
  },
  "language_info": {
   "codemirror_mode": {
    "name": "ipython",
    "version": 3
   },
   "file_extension": ".py",
   "mimetype": "text/x-python",
   "name": "python",
   "nbconvert_exporter": "python",
   "pygments_lexer": "ipython3",
   "version": "3.12.3"
  }
 },
 "nbformat": 4,
 "nbformat_minor": 2
}
